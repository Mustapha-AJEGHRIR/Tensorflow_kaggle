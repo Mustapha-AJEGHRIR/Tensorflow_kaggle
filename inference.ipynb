{
 "cells": [
  {
   "cell_type": "markdown",
   "metadata": {},
   "source": [
    "# lets first install YOLOX"
   ]
  },
  {
   "cell_type": "markdown",
   "metadata": {},
   "source": [
    "Lets go to the YOLOX folder, then install yolox"
   ]
  },
  {
   "cell_type": "code",
   "execution_count": 7,
   "metadata": {},
   "outputs": [],
   "source": [
    "%%capture\n",
    "# For debugging, remove the line above\n",
    "#Enter the folder\n",
    "path = %pwd\n",
    "if not \"YOLOX\" in path:\n",
    "    %cd YOLOX\n",
    "%pip install -v -e .  # or  python3 setup.py develop"
   ]
  },
  {
   "cell_type": "code",
   "execution_count": 9,
   "metadata": {},
   "outputs": [],
   "source": [
    "#%pip install cython\n",
    "#%pip install 'git+https://github.com/cocodataset/cocoapi.git#subdirectory=PythonAPI'"
   ]
  },
  {
   "cell_type": "markdown",
   "metadata": {},
   "source": [
    "# Inference"
   ]
  },
  {
   "cell_type": "code",
   "execution_count": 11,
   "metadata": {},
   "outputs": [
    {
     "name": "stdout",
     "output_type": "stream",
     "text": [
      "\u001b[32m2022-01-02 14:29:12.639\u001b[0m | \u001b[1mINFO    \u001b[0m | \u001b[36m__main__\u001b[0m:\u001b[36mmain\u001b[0m:\u001b[36m255\u001b[0m - \u001b[1mArgs: Namespace(demo='image', experiment_name='yolox_s', name=None, path='../data/train_images/video_0/10.jpg', camid=0, save_result=True, exp_file='./exps/default/yolox_s.py', ckpt='../checkpoints/yolox_s.pth', device='cpu', conf=0.25, nms=0.45, tsize=640, fp16=False, legacy=False, fuse=False, trt=False)\u001b[0m\n",
      "/home/mus5900/anaconda3/envs/yolo/lib/python3.9/site-packages/torch/functional.py:445: UserWarning: torch.meshgrid: in an upcoming release, it will be required to pass the indexing argument. (Triggered internally at  ../aten/src/ATen/native/TensorShape.cpp:2157.)\n",
      "  return _VF.meshgrid(tensors, **kwargs)  # type: ignore[attr-defined]\n",
      "\u001b[32m2022-01-02 14:29:13.093\u001b[0m | \u001b[1mINFO    \u001b[0m | \u001b[36m__main__\u001b[0m:\u001b[36mmain\u001b[0m:\u001b[36m265\u001b[0m - \u001b[1mModel Summary: Params: 8.97M, Gflops: 26.81\u001b[0m\n",
      "\u001b[32m2022-01-02 14:29:13.095\u001b[0m | \u001b[1mINFO    \u001b[0m | \u001b[36m__main__\u001b[0m:\u001b[36mmain\u001b[0m:\u001b[36m278\u001b[0m - \u001b[1mloading checkpoint\u001b[0m\n",
      "\u001b[32m2022-01-02 14:29:13.342\u001b[0m | \u001b[1mINFO    \u001b[0m | \u001b[36m__main__\u001b[0m:\u001b[36mmain\u001b[0m:\u001b[36m282\u001b[0m - \u001b[1mloaded checkpoint done.\u001b[0m\n",
      "\u001b[32m2022-01-02 14:29:13.685\u001b[0m | \u001b[1mINFO    \u001b[0m | \u001b[36m__main__\u001b[0m:\u001b[36minference\u001b[0m:\u001b[36m165\u001b[0m - \u001b[1mInfer time: 0.2945s\u001b[0m\n",
      "\u001b[32m2022-01-02 14:29:13.688\u001b[0m | \u001b[1mINFO    \u001b[0m | \u001b[36m__main__\u001b[0m:\u001b[36mimage_demo\u001b[0m:\u001b[36m202\u001b[0m - \u001b[1mSaving detection result in ./YOLOX_outputs/yolox_s/vis_res/2022_01_02_14_29_13/10.jpg\u001b[0m\n"
     ]
    }
   ],
   "source": [
    "video_id = 0\n",
    "image_id = 10\n",
    "device_to_ude = \"cpu\" # or \"gpu\"\n",
    "!python tools/demo.py image -f ./exps/default/yolox_s.py -c ../checkpoints/yolox_s.pth --path ../data/train_images/video_{video_id}/{image_id}.jpg --conf 0.25 --nms 0.45 --tsize 640 --save_result --device {device_to_ude}"
   ]
  }
 ],
 "metadata": {
  "interpreter": {
   "hash": "76a523b229c1bdfefc2e48939a50f2e7755309cd9defdafaa93eeee6ec8eda56"
  },
  "kernelspec": {
   "display_name": "Python 3.9.7 64-bit ('yolo': conda)",
   "language": "python",
   "name": "python3"
  },
  "language_info": {
   "codemirror_mode": {
    "name": "ipython",
    "version": 3
   },
   "file_extension": ".py",
   "mimetype": "text/x-python",
   "name": "python",
   "nbconvert_exporter": "python",
   "pygments_lexer": "ipython3",
   "version": "3.9.7"
  },
  "orig_nbformat": 4
 },
 "nbformat": 4,
 "nbformat_minor": 2
}
