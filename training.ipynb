{
 "cells": [
  {
   "cell_type": "markdown",
   "metadata": {},
   "source": [
    "# Imports"
   ]
  },
  {
   "cell_type": "code",
   "execution_count": 42,
   "metadata": {},
   "outputs": [],
   "source": [
    "from IPython.core.magic import register_line_cell_magic\n",
    "\n",
    "@register_line_cell_magic\n",
    "def writetemplate(line, cell):\n",
    "    with open(line, 'w') as f:\n",
    "        f.write(cell.format(**globals()))"
   ]
  },
  {
   "cell_type": "code",
   "execution_count": 43,
   "metadata": {},
   "outputs": [],
   "source": [
    "%%writetemplate YOLOX/yolox/data/datasets/voc_classes.py\n",
    "\n",
    "VOC_CLASSES = (\n",
    "    \"target\",\n",
    ")"
   ]
  },
  {
   "cell_type": "code",
   "execution_count": 44,
   "metadata": {},
   "outputs": [],
   "source": [
    "%%writetemplate YOLOX/yolox/data/datasets/coco_classes.py\n",
    "\n",
    "COCO_CLASSES = (\n",
    "    \"target\",\n",
    ")"
   ]
  },
  {
   "cell_type": "code",
   "execution_count": 45,
   "metadata": {},
   "outputs": [],
   "source": [
    "NUM_CLASSES = 1\n",
    "!sed -i -e 's/self.num_classes = 20/self.num_classes = {NUM_CLASSES}/g' \"YOLOX/exps/example/yolox_voc/yolox_voc_s.py\""
   ]
  },
  {
   "cell_type": "code",
   "execution_count": 46,
   "metadata": {},
   "outputs": [],
   "source": [
    "%mkdir YOLOX/datasets/VOCdevkit/VOC2007\n",
    "!cp -r YOLOX/datasets/VOCdevkit/VOC2012/* YOLOX/datasets/VOCdevkit/VOC2007"
   ]
  },
  {
   "cell_type": "markdown",
   "metadata": {},
   "source": [
    "# Training"
   ]
  },
  {
   "cell_type": "code",
   "execution_count": 51,
   "metadata": {},
   "outputs": [
    {
     "name": "stdout",
     "output_type": "stream",
     "text": [
      "\u001b[32m2022-01-04 08:47:56\u001b[0m | \u001b[1mINFO    \u001b[0m | \u001b[36myolox.core.trainer\u001b[0m:\u001b[36m126\u001b[0m - \u001b[1margs: Namespace(experiment_name='yolox_voc_s', name=None, dist_backend='nccl', dist_url=None, batch_size=1, devices=1, exp_file='YOLOX/exps/example/yolox_voc/yolox_voc_s.py', resume=False, ckpt='checkpoints/yolox_s.pth', start_epoch=None, num_machines=1, machine_rank=0, fp16=True, cache=False, occupy=True, opts=[])\u001b[0m\n",
      "\u001b[32m2022-01-04 08:47:56\u001b[0m | \u001b[1mINFO    \u001b[0m | \u001b[36myolox.core.trainer\u001b[0m:\u001b[36m127\u001b[0m - \u001b[1mexp value:\n",
      "╒══════════════════╤════════════════════════════╕\n",
      "│ keys             │ values                     │\n",
      "╞══════════════════╪════════════════════════════╡\n",
      "│ seed             │ None                       │\n",
      "├──────────────────┼────────────────────────────┤\n",
      "│ output_dir       │ './YOLOX_outputs'          │\n",
      "├──────────────────┼────────────────────────────┤\n",
      "│ print_interval   │ 10                         │\n",
      "├──────────────────┼────────────────────────────┤\n",
      "│ eval_interval    │ 10                         │\n",
      "├──────────────────┼────────────────────────────┤\n",
      "│ num_classes      │ 1                          │\n",
      "├──────────────────┼────────────────────────────┤\n",
      "│ depth            │ 0.33                       │\n",
      "├──────────────────┼────────────────────────────┤\n",
      "│ width            │ 0.5                        │\n",
      "├──────────────────┼────────────────────────────┤\n",
      "│ act              │ 'silu'                     │\n",
      "├──────────────────┼────────────────────────────┤\n",
      "│ data_num_workers │ 4                          │\n",
      "├──────────────────┼────────────────────────────┤\n",
      "│ input_size       │ (640, 640)                 │\n",
      "├──────────────────┼────────────────────────────┤\n",
      "│ multiscale_range │ 5                          │\n",
      "├──────────────────┼────────────────────────────┤\n",
      "│ data_dir         │ None                       │\n",
      "├──────────────────┼────────────────────────────┤\n",
      "│ train_ann        │ 'instances_train2017.json' │\n",
      "├──────────────────┼────────────────────────────┤\n",
      "│ val_ann          │ 'instances_val2017.json'   │\n",
      "├──────────────────┼────────────────────────────┤\n",
      "│ mosaic_prob      │ 1.0                        │\n",
      "├──────────────────┼────────────────────────────┤\n",
      "│ mixup_prob       │ 1.0                        │\n",
      "├──────────────────┼────────────────────────────┤\n",
      "│ hsv_prob         │ 1.0                        │\n",
      "├──────────────────┼────────────────────────────┤\n",
      "│ flip_prob        │ 0.5                        │\n",
      "├──────────────────┼────────────────────────────┤\n",
      "│ degrees          │ 10.0                       │\n",
      "├──────────────────┼────────────────────────────┤\n",
      "│ translate        │ 0.1                        │\n",
      "├──────────────────┼────────────────────────────┤\n",
      "│ mosaic_scale     │ (0.1, 2)                   │\n",
      "├──────────────────┼────────────────────────────┤\n",
      "│ mixup_scale      │ (0.5, 1.5)                 │\n",
      "├──────────────────┼────────────────────────────┤\n",
      "│ shear            │ 2.0                        │\n",
      "├──────────────────┼────────────────────────────┤\n",
      "│ enable_mixup     │ True                       │\n",
      "├──────────────────┼────────────────────────────┤\n",
      "│ warmup_epochs    │ 1                          │\n",
      "├──────────────────┼────────────────────────────┤\n",
      "│ max_epoch        │ 300                        │\n",
      "├──────────────────┼────────────────────────────┤\n",
      "│ warmup_lr        │ 0                          │\n",
      "├──────────────────┼────────────────────────────┤\n",
      "│ basic_lr_per_img │ 0.00015625                 │\n",
      "├──────────────────┼────────────────────────────┤\n",
      "│ scheduler        │ 'yoloxwarmcos'             │\n",
      "├──────────────────┼────────────────────────────┤\n",
      "│ no_aug_epochs    │ 15                         │\n",
      "├──────────────────┼────────────────────────────┤\n",
      "│ min_lr_ratio     │ 0.05                       │\n",
      "├──────────────────┼────────────────────────────┤\n",
      "│ ema              │ True                       │\n",
      "├──────────────────┼────────────────────────────┤\n",
      "│ weight_decay     │ 0.0005                     │\n",
      "├──────────────────┼────────────────────────────┤\n",
      "│ momentum         │ 0.9                        │\n",
      "├──────────────────┼────────────────────────────┤\n",
      "│ exp_name         │ 'yolox_voc_s'              │\n",
      "├──────────────────┼────────────────────────────┤\n",
      "│ test_size        │ (640, 640)                 │\n",
      "├──────────────────┼────────────────────────────┤\n",
      "│ test_conf        │ 0.01                       │\n",
      "├──────────────────┼────────────────────────────┤\n",
      "│ nmsthre          │ 0.65                       │\n",
      "╘══════════════════╧════════════════════════════╛\u001b[0m\n",
      "/home/mus5900/anaconda3/envs/yolo/lib/python3.9/site-packages/torch/functional.py:445: UserWarning: torch.meshgrid: in an upcoming release, it will be required to pass the indexing argument. (Triggered internally at  ../aten/src/ATen/native/TensorShape.cpp:2157.)\n",
      "  return _VF.meshgrid(tensors, **kwargs)  # type: ignore[attr-defined]\n",
      "\u001b[32m2022-01-04 08:47:57\u001b[0m | \u001b[1mINFO    \u001b[0m | \u001b[36myolox.core.trainer\u001b[0m:\u001b[36m132\u001b[0m - \u001b[1mModel Summary: Params: 8.94M, Gflops: 26.64\u001b[0m\n",
      "\u001b[32m2022-01-04 08:48:14\u001b[0m | \u001b[1mINFO    \u001b[0m | \u001b[36myolox.core.trainer\u001b[0m:\u001b[36m286\u001b[0m - \u001b[1mloading checkpoint for fine tuning\u001b[0m\n",
      "\u001b[32m2022-01-04 08:48:16\u001b[0m | \u001b[33m\u001b[1mWARNING \u001b[0m | \u001b[36myolox.utils.checkpoint\u001b[0m:\u001b[36m24\u001b[0m - \u001b[33m\u001b[1mShape of head.cls_preds.0.weight in checkpoint is torch.Size([80, 128, 1, 1]), while shape of head.cls_preds.0.weight in model is torch.Size([1, 128, 1, 1]).\u001b[0m\n",
      "\u001b[32m2022-01-04 08:48:16\u001b[0m | \u001b[33m\u001b[1mWARNING \u001b[0m | \u001b[36myolox.utils.checkpoint\u001b[0m:\u001b[36m24\u001b[0m - \u001b[33m\u001b[1mShape of head.cls_preds.0.bias in checkpoint is torch.Size([80]), while shape of head.cls_preds.0.bias in model is torch.Size([1]).\u001b[0m\n",
      "\u001b[32m2022-01-04 08:48:16\u001b[0m | \u001b[33m\u001b[1mWARNING \u001b[0m | \u001b[36myolox.utils.checkpoint\u001b[0m:\u001b[36m24\u001b[0m - \u001b[33m\u001b[1mShape of head.cls_preds.1.weight in checkpoint is torch.Size([80, 128, 1, 1]), while shape of head.cls_preds.1.weight in model is torch.Size([1, 128, 1, 1]).\u001b[0m\n",
      "\u001b[32m2022-01-04 08:48:16\u001b[0m | \u001b[33m\u001b[1mWARNING \u001b[0m | \u001b[36myolox.utils.checkpoint\u001b[0m:\u001b[36m24\u001b[0m - \u001b[33m\u001b[1mShape of head.cls_preds.1.bias in checkpoint is torch.Size([80]), while shape of head.cls_preds.1.bias in model is torch.Size([1]).\u001b[0m\n",
      "\u001b[32m2022-01-04 08:48:16\u001b[0m | \u001b[33m\u001b[1mWARNING \u001b[0m | \u001b[36myolox.utils.checkpoint\u001b[0m:\u001b[36m24\u001b[0m - \u001b[33m\u001b[1mShape of head.cls_preds.2.weight in checkpoint is torch.Size([80, 128, 1, 1]), while shape of head.cls_preds.2.weight in model is torch.Size([1, 128, 1, 1]).\u001b[0m\n",
      "\u001b[32m2022-01-04 08:48:16\u001b[0m | \u001b[33m\u001b[1mWARNING \u001b[0m | \u001b[36myolox.utils.checkpoint\u001b[0m:\u001b[36m24\u001b[0m - \u001b[33m\u001b[1mShape of head.cls_preds.2.bias in checkpoint is torch.Size([80]), while shape of head.cls_preds.2.bias in model is torch.Size([1]).\u001b[0m\n"
     ]
    }
   ],
   "source": [
    "!python YOLOX/tools/train.py -f YOLOX/exps/example/yolox_voc/yolox_voc_s.py -d 1 -b 1 --fp16 -o -c checkpoints/yolox_s.pth"
   ]
  },
  {
   "cell_type": "code",
   "execution_count": null,
   "metadata": {},
   "outputs": [],
   "source": []
  }
 ],
 "metadata": {
  "interpreter": {
   "hash": "76a523b229c1bdfefc2e48939a50f2e7755309cd9defdafaa93eeee6ec8eda56"
  },
  "kernelspec": {
   "display_name": "Python 3.9.7 64-bit ('yolo': conda)",
   "language": "python",
   "name": "python3"
  },
  "language_info": {
   "codemirror_mode": {
    "name": "ipython",
    "version": 3
   },
   "file_extension": ".py",
   "mimetype": "text/x-python",
   "name": "python",
   "nbconvert_exporter": "python",
   "pygments_lexer": "ipython3",
   "version": "3.9.7"
  },
  "orig_nbformat": 4
 },
 "nbformat": 4,
 "nbformat_minor": 2
}
