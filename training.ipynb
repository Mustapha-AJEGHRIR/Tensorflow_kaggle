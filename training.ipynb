{
 "cells": [
  {
   "cell_type": "markdown",
   "metadata": {},
   "source": [
    "# Imports"
   ]
  },
  {
   "cell_type": "code",
   "execution_count": 42,
   "metadata": {},
   "outputs": [],
   "source": [
    "from IPython.core.magic import register_line_cell_magic\n",
    "\n",
    "@register_line_cell_magic\n",
    "def writetemplate(line, cell):\n",
    "    with open(line, 'w') as f:\n",
    "        f.write(cell.format(**globals()))"
   ]
  },
  {
   "cell_type": "code",
   "execution_count": 43,
   "metadata": {},
   "outputs": [],
   "source": [
    "%%writetemplate YOLOX/yolox/data/datasets/voc_classes.py\n",
    "\n",
    "VOC_CLASSES = (\n",
    "    \"target\",\n",
    ")"
   ]
  },
  {
   "cell_type": "code",
   "execution_count": 44,
   "metadata": {},
   "outputs": [],
   "source": [
    "%%writetemplate YOLOX/yolox/data/datasets/coco_classes.py\n",
    "\n",
    "COCO_CLASSES = (\n",
    "    \"target\",\n",
    ")"
   ]
  },
  {
   "cell_type": "code",
   "execution_count": 45,
   "metadata": {},
   "outputs": [],
   "source": [
    "NUM_CLASSES = 1\n",
    "!sed -i -e 's/self.num_classes = 20/self.num_classes = {NUM_CLASSES}/g' \"YOLOX/exps/example/yolox_voc/yolox_voc_s.py\""
   ]
  },
  {
   "cell_type": "code",
   "execution_count": 46,
   "metadata": {},
   "outputs": [],
   "source": [
    "%mkdir YOLOX/datasets/VOCdevkit/VOC2007\n",
    "!cp -r YOLOX/datasets/VOCdevkit/VOC2012/* YOLOX/datasets/VOCdevkit/VOC2007"
   ]
  },
  {
   "cell_type": "markdown",
   "metadata": {},
   "source": [
    "# Training"
   ]
  },
  {
   "cell_type": "code",
   "execution_count": 41,
   "metadata": {},
   "outputs": [
    {
     "name": "stdout",
     "output_type": "stream",
     "text": [
      "^C\n",
      "Traceback (most recent call last):\n",
      "  File \"/mnt/c/Users/Mustapha/Documents/competitions/Tensorflow_kaggle/YOLOX/tools/train.py\", line 10, in <module>\n",
      "    import torch\n",
      "  File \"/home/mus5900/anaconda3/envs/yolo/lib/python3.9/site-packages/torch/__init__.py\", line 720, in <module>\n",
      "    from torch import quantization as quantization\n",
      "  File \"/home/mus5900/anaconda3/envs/yolo/lib/python3.9/site-packages/torch/quantization/__init__.py\", line 1, in <module>\n",
      "    from .quantize import *  # noqa: F403\n",
      "  File \"/home/mus5900/anaconda3/envs/yolo/lib/python3.9/site-packages/torch/quantization/quantize.py\", line 10, in <module>\n",
      "    from torch.ao.quantization.quantize import _convert\n",
      "  File \"/home/mus5900/anaconda3/envs/yolo/lib/python3.9/site-packages/torch/ao/quantization/__init__.py\", line 1, in <module>\n",
      "    from .fake_quantize import *  # noqa: F403\n",
      "  File \"/home/mus5900/anaconda3/envs/yolo/lib/python3.9/site-packages/torch/ao/quantization/fake_quantize.py\", line 3, in <module>\n",
      "    from torch.quantization.observer import (\n",
      "  File \"<frozen importlib._bootstrap>\", line 1007, in _find_and_load\n",
      "  File \"<frozen importlib._bootstrap>\", line 986, in _find_and_load_unlocked\n",
      "  File \"<frozen importlib._bootstrap>\", line 680, in _load_unlocked\n",
      "  File \"<frozen importlib._bootstrap_external>\", line 846, in exec_module\n",
      "  File \"<frozen importlib._bootstrap_external>\", line 941, in get_code\n",
      "  File \"<frozen importlib._bootstrap_external>\", line 1039, in get_data\n",
      "KeyboardInterrupt\n"
     ]
    }
   ],
   "source": [
    "device = \"cpu\"\n",
    "!python YOLOX/tools/train.py -f YOLOX/exps/example/yolox_voc/yolox_voc_s.py -d 1 -b 16 --fp16 -o -c checkpoints/yolox_s.pth --device {device}"
   ]
  },
  {
   "cell_type": "code",
   "execution_count": null,
   "metadata": {},
   "outputs": [],
   "source": []
  }
 ],
 "metadata": {
  "interpreter": {
   "hash": "76a523b229c1bdfefc2e48939a50f2e7755309cd9defdafaa93eeee6ec8eda56"
  },
  "kernelspec": {
   "display_name": "Python 3.9.7 64-bit ('yolo': conda)",
   "language": "python",
   "name": "python3"
  },
  "language_info": {
   "codemirror_mode": {
    "name": "ipython",
    "version": 3
   },
   "file_extension": ".py",
   "mimetype": "text/x-python",
   "name": "python",
   "nbconvert_exporter": "python",
   "pygments_lexer": "ipython3",
   "version": "3.9.7"
  },
  "orig_nbformat": 4
 },
 "nbformat": 4,
 "nbformat_minor": 2
}
