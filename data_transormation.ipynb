{
 "cells": [
  {
   "cell_type": "markdown",
   "metadata": {},
   "source": [
    "# Import needs"
   ]
  },
  {
   "cell_type": "code",
   "execution_count": 2,
   "metadata": {},
   "outputs": [],
   "source": [
    "import pandas as pd\n",
    "import numpy as np\n",
    "import json\n",
    "import xml.etree.ElementTree as ET"
   ]
  },
  {
   "cell_type": "markdown",
   "metadata": {},
   "source": [
    "# Start transformations"
   ]
  },
  {
   "cell_type": "markdown",
   "metadata": {},
   "source": [
    "The reason we need transformations is that our data can't be used directly by the model, we need to transform it to the right format. More specifically, `the VOC format`"
   ]
  },
  {
   "cell_type": "code",
   "execution_count": 3,
   "metadata": {},
   "outputs": [
    {
     "data": {
      "text/html": [
       "<div>\n",
       "<style scoped>\n",
       "    .dataframe tbody tr th:only-of-type {\n",
       "        vertical-align: middle;\n",
       "    }\n",
       "\n",
       "    .dataframe tbody tr th {\n",
       "        vertical-align: top;\n",
       "    }\n",
       "\n",
       "    .dataframe thead th {\n",
       "        text-align: right;\n",
       "    }\n",
       "</style>\n",
       "<table border=\"1\" class=\"dataframe\">\n",
       "  <thead>\n",
       "    <tr style=\"text-align: right;\">\n",
       "      <th></th>\n",
       "      <th>video_id</th>\n",
       "      <th>sequence</th>\n",
       "      <th>video_frame</th>\n",
       "      <th>sequence_frame</th>\n",
       "      <th>image_id</th>\n",
       "      <th>annotations</th>\n",
       "    </tr>\n",
       "  </thead>\n",
       "  <tbody>\n",
       "    <tr>\n",
       "      <th>0</th>\n",
       "      <td>0</td>\n",
       "      <td>40258</td>\n",
       "      <td>0</td>\n",
       "      <td>0</td>\n",
       "      <td>0-0</td>\n",
       "      <td>[]</td>\n",
       "    </tr>\n",
       "    <tr>\n",
       "      <th>1</th>\n",
       "      <td>0</td>\n",
       "      <td>40258</td>\n",
       "      <td>1</td>\n",
       "      <td>1</td>\n",
       "      <td>0-1</td>\n",
       "      <td>[]</td>\n",
       "    </tr>\n",
       "    <tr>\n",
       "      <th>2</th>\n",
       "      <td>0</td>\n",
       "      <td>40258</td>\n",
       "      <td>2</td>\n",
       "      <td>2</td>\n",
       "      <td>0-2</td>\n",
       "      <td>[]</td>\n",
       "    </tr>\n",
       "    <tr>\n",
       "      <th>3</th>\n",
       "      <td>0</td>\n",
       "      <td>40258</td>\n",
       "      <td>3</td>\n",
       "      <td>3</td>\n",
       "      <td>0-3</td>\n",
       "      <td>[]</td>\n",
       "    </tr>\n",
       "    <tr>\n",
       "      <th>4</th>\n",
       "      <td>0</td>\n",
       "      <td>40258</td>\n",
       "      <td>4</td>\n",
       "      <td>4</td>\n",
       "      <td>0-4</td>\n",
       "      <td>[]</td>\n",
       "    </tr>\n",
       "  </tbody>\n",
       "</table>\n",
       "</div>"
      ],
      "text/plain": [
       "   video_id  sequence  video_frame  sequence_frame image_id annotations\n",
       "0         0     40258            0               0      0-0          []\n",
       "1         0     40258            1               1      0-1          []\n",
       "2         0     40258            2               2      0-2          []\n",
       "3         0     40258            3               3      0-3          []\n",
       "4         0     40258            4               4      0-4          []"
      ]
     },
     "execution_count": 3,
     "metadata": {},
     "output_type": "execute_result"
    }
   ],
   "source": [
    "train = pd.read_csv('data/train.csv')\n",
    "train.head(5)"
   ]
  },
  {
   "cell_type": "code",
   "execution_count": 9,
   "metadata": {},
   "outputs": [
    {
     "name": "stdout",
     "output_type": "stream",
     "text": [
      "video_id              0\n",
      "sequence          40258\n",
      "video_frame           0\n",
      "sequence_frame        0\n",
      "image_id            0-0\n",
      "annotations          []\n",
      "Name: 0, dtype: object\n",
      "0\n"
     ]
    }
   ],
   "source": [
    "for i, row in train.iterrows():\n",
    "    print(row)\n",
    "    print(row.video_id)\n",
    "    break"
   ]
  },
  {
   "cell_type": "code",
   "execution_count": 60,
   "metadata": {},
   "outputs": [
    {
     "data": {
      "text/plain": [
       "\"[{'x': 539, 'y': 205, 'width': 105, 'height': 98}, {'x': 630, 'y': 351, 'width': 95, 'height': 56}]\""
      ]
     },
     "execution_count": 60,
     "metadata": {},
     "output_type": "execute_result"
    }
   ],
   "source": [
    "annotations = train.iloc[50].annotations\n",
    "annotations"
   ]
  },
  {
   "cell_type": "code",
   "execution_count": 61,
   "metadata": {},
   "outputs": [
    {
     "data": {
      "text/plain": [
       "[{'x': 539, 'y': 205, 'width': 105, 'height': 98},\n",
       " {'x': 630, 'y': 351, 'width': 95, 'height': 56}]"
      ]
     },
     "execution_count": 61,
     "metadata": {},
     "output_type": "execute_result"
    }
   ],
   "source": [
    "#transform annotations to list\n",
    "annotations = annotations.replace(\"\\'\", \"\\\"\")\n",
    "annotations_json = json.loads(annotations)\n",
    "annotations_json"
   ]
  },
  {
   "cell_type": "markdown",
   "metadata": {},
   "source": [
    "# XML tests"
   ]
  },
  {
   "cell_type": "code",
   "execution_count": 64,
   "metadata": {},
   "outputs": [],
   "source": [
    "# hello = ET.Element(\"hello\")\n",
    "# ET.SubElement(hello, \"world\")\n",
    "# ET.ElementTree(hello).write(\"hello.xml\")"
   ]
  },
  {
   "cell_type": "markdown",
   "metadata": {},
   "source": [
    "# VOC format"
   ]
  },
  {
   "cell_type": "code",
   "execution_count": null,
   "metadata": {},
   "outputs": [],
   "source": [
    "def create_xml_file(df, image_dir, train_dir, out_dir, display=False):\n",
    "    \"\"\" Converts an images annotations to Pascal VOC (XML) and writes to disk\n",
    "    \n",
    "    Args:\n",
    "        df (pd.DataFrame): dataframe\n",
    "        image_id (str): The image_id that we want to generate an XML file for\n",
    "        train_dir (str): Path to the directory containing training\n",
    "            dicom image files.\n",
    "        out_dir (str): Path to the directory to save the XML file\n",
    "        display (bool, optional): Whether to pretty-print the XML\n",
    "            file prior to writing it to file.\n",
    "    \n",
    "    Returns:\n",
    "        None;   It writes the Pascal VOC converted information to file\n",
    "                as an XML file in the directed output directory.\n",
    "    \"\"\"\n",
    "    def get_json_annotation(annotation):\n",
    "        return json.loads(annotation.replace(\"\\'\", \"\\\"\"))\n",
    "    def _get_image_size(path):\n",
    "        \"\"\" Get the image shape from a path to a dicom image \"\"\"\n",
    "        meta = pydicom.read_file(path)\n",
    "        width = meta.Columns\n",
    "        height = meta.Rows\n",
    "        return str(int(width)), str(int(height)), \"1\"\n",
    "    \n",
    "    def resize(old_img_w, old_img_h, new_img_w=1280, new_img_h=1280):\n",
    "        w_ratio = new_img_w/int(old_img_w)\n",
    "        h_ratio = new_img_h/int(old_img_h)\n",
    "        return new_img_w, new_img_h, w_ratio, h_ratio\n",
    "        \n",
    "    \n",
    "    def _create_object_subtree(annotation, obj, w_ratio, h_ratio):\n",
    "        \"\"\" Create the sub-tree related to a given object and update the root \"\"\"\n",
    "        # Object Sub-Element\n",
    "        # Check that bbox is not NaN\n",
    "        if not np.isnan(obj[3]):\n",
    "            _object = ET.SubElement(annotation, \"object\")\n",
    "            ET.SubElement(_object, \"name\").text = int_2_str[obj[1]].lower().replace(\" \", \"_\")\n",
    "            ET.SubElement(_object, \"radiologist\").text = obj[2]\n",
    "            ET.SubElement(_object, \"pose\").text = \"Unspecified\"\n",
    "            ET.SubElement(_object, \"truncated\").text = \"0\"\n",
    "            ET.SubElement(_object, \"difficult\").text = \"0\"\n",
    "\n",
    "            _bndbox = ET.SubElement(_object, \"bndbox\")\n",
    "            ET.SubElement(_bndbox, \"xmin\").text = str(int(obj[3]*w_ratio))\n",
    "            ET.SubElement(_bndbox, \"ymin\").text = str(int(obj[4]*h_ratio))\n",
    "            ET.SubElement(_bndbox, \"xmax\").text = str(int(obj[5]*w_ratio))\n",
    "            ET.SubElement(_bndbox, \"ymax\").text = str(int(obj[6]*h_ratio))\n",
    "        return annotation\n",
    "    \n",
    "    for index, row in df.iterrows():\n",
    "        # Initalize and create the objects array\n",
    "        objects = train_df[train_df.image_id==DEMO_IMG_ID].to_numpy()\n",
    "        annotation = ET.Element('annotation')\n",
    "        img_w, img_h, img_d = _get_image_size(os.path.join(train_dir, image_id+\".dicom\"))\n",
    "        img_w, img_h, w_ratio, h_ratio = resize(img_w, img_h)\n",
    "        \n",
    "        # ##### Beginning of XML #####\n",
    "        \n",
    "        # File Sub-Elements\n",
    "        ET.SubElement(annotation, \"folder\").text=\"train\"\n",
    "        ET.SubElement(annotation, \"filename\").text=image_id+\".dicom\"\n",
    "        ET.SubElement(annotation, \"path\").text=os.path.join(train_dir, image_id+\".dicom\")\n",
    "\n",
    "        # SRC Sub-Element\n",
    "        _src = ET.SubElement(annotation, \"src\")\n",
    "        ET.SubElement(_src, \"database\").text=\"train\"\n",
    "        \n",
    "        # Size Sub-Element\n",
    "        _size = ET.SubElement(annotation, \"size\")\n",
    "        ET.SubElement(_size, \"width\").text=str(img_w)\n",
    "        ET.SubElement(_size, \"height\").text=str(img_h)\n",
    "        ET.SubElement(_size, \"depth\").text=str(img_d)\n",
    "        \n",
    "        # Segmented Sub-Element\n",
    "        ET.SubElement(annotation, \"segmented\").text=\"0\"\n",
    "        \n",
    "        # Loop over every object and create the annotation for that bounding box\n",
    "        for obj in objects:\n",
    "            annotation = _create_object_subtree(annotation, obj, w_ratio, h_ratio)\n",
    "        \n",
    "        # Display if requested\n",
    "        if display:\n",
    "            pprint_elem_tree(annotation)\n",
    "            \n",
    "        # Save to output directory\n",
    "        ET.ElementTree(annotation).write(os.path.join(out_dir, image_id+'.xml'))\n",
    "    \n",
    "# DEMO_IMG_ID = \"9a5094b2563a1ef3ff50dc5c7ff71345\"\n",
    "# DEMO_PATH = os.path.join(TRAIN_DIR, DEMO_IMG_ID+\".dicom\")\n",
    "\n",
    "# create_xml_file(train_df, DEMO_IMG_ID, TRAIN_DIR, out_dir=\"/tmp\", display=True)\n",
    "\n",
    "# print(\"Look into the tmp folder to see that the xml was created...\")\n",
    "# for file in [f for f in os.listdir(\"/tmp\") if f.endswith(\".xml\")]: print(\"\\t– /tmp/\"+file)"
   ]
  }
 ],
 "metadata": {
  "interpreter": {
   "hash": "76a523b229c1bdfefc2e48939a50f2e7755309cd9defdafaa93eeee6ec8eda56"
  },
  "kernelspec": {
   "display_name": "Python 3.9.7 64-bit ('yolo': conda)",
   "language": "python",
   "name": "python3"
  },
  "language_info": {
   "codemirror_mode": {
    "name": "ipython",
    "version": 3
   },
   "file_extension": ".py",
   "mimetype": "text/x-python",
   "name": "python",
   "nbconvert_exporter": "python",
   "pygments_lexer": "ipython3",
   "version": "3.9.7"
  },
  "orig_nbformat": 4
 },
 "nbformat": 4,
 "nbformat_minor": 2
}
